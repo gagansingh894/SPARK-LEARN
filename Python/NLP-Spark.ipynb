{
 "cells": [
  {
   "cell_type": "code",
   "execution_count": 1,
   "metadata": {},
   "outputs": [],
   "source": [
    "import findspark\n",
    "findspark.init(\"/home/gagandeep/spark/spark-2.4.5-bin-hadoop2.7\")\n",
    "from pyspark.sql import SparkSession\n",
    "import os"
   ]
  },
  {
   "cell_type": "code",
   "execution_count": 2,
   "metadata": {},
   "outputs": [],
   "source": [
    "spark = SparkSession.builder.appName('nlp').getOrCreate()"
   ]
  },
  {
   "cell_type": "code",
   "execution_count": 8,
   "metadata": {},
   "outputs": [],
   "source": [
    "pathToFile = \"/media/gagandeep/2E92405C92402AA3/Work/Codes/PythonCodes/SparkLesson/DataFiles/Spark_for_Machine_Learning/Natural_Language_Processing/smsspamcollection/SMSSpamCollection\"\n",
    "data = spark.read.csv(pathToFile, inferSchema=True, header=False, sep='\\t')"
   ]
  },
  {
   "cell_type": "code",
   "execution_count": 9,
   "metadata": {},
   "outputs": [
    {
     "output_type": "stream",
     "name": "stdout",
     "text": "root\n |-- _c0: string (nullable = true)\n |-- _c1: string (nullable = true)\n\n"
    }
   ],
   "source": [
    "data.printSchema()"
   ]
  },
  {
   "cell_type": "code",
   "execution_count": 10,
   "metadata": {},
   "outputs": [
    {
     "output_type": "stream",
     "name": "stdout",
     "text": "+----+--------------------+\n| _c0|                 _c1|\n+----+--------------------+\n| ham|Go until jurong p...|\n| ham|Ok lar... Joking ...|\n|spam|Free entry in 2 a...|\n| ham|U dun say so earl...|\n| ham|Nah I don't think...|\n|spam|FreeMsg Hey there...|\n| ham|Even my brother i...|\n| ham|As per your reque...|\n|spam|WINNER!! As a val...|\n|spam|Had your mobile 1...|\n| ham|I'm gonna be home...|\n|spam|SIX chances to wi...|\n|spam|URGENT! You have ...|\n| ham|I've been searchi...|\n| ham|I HAVE A DATE ON ...|\n|spam|XXXMobileMovieClu...|\n| ham|Oh k...i'm watchi...|\n| ham|Eh u remember how...|\n| ham|Fine if thats th...|\n|spam|England v Macedon...|\n+----+--------------------+\nonly showing top 20 rows\n\n"
    }
   ],
   "source": [
    "data.show()"
   ]
  },
  {
   "cell_type": "code",
   "execution_count": 11,
   "metadata": {},
   "outputs": [
    {
     "output_type": "execute_result",
     "data": {
      "text/plain": "['_c0', '_c1']"
     },
     "metadata": {},
     "execution_count": 11
    }
   ],
   "source": [
    "data.columns"
   ]
  },
  {
   "cell_type": "code",
   "execution_count": 12,
   "metadata": {},
   "outputs": [],
   "source": [
    "data = data.withColumnRenamed('_c0','class').withColumnRenamed('_c1','text')"
   ]
  },
  {
   "cell_type": "code",
   "execution_count": 13,
   "metadata": {},
   "outputs": [
    {
     "output_type": "stream",
     "name": "stdout",
     "text": "+-----+--------------------+\n|class|                text|\n+-----+--------------------+\n|  ham|Go until jurong p...|\n|  ham|Ok lar... Joking ...|\n| spam|Free entry in 2 a...|\n|  ham|U dun say so earl...|\n|  ham|Nah I don't think...|\n| spam|FreeMsg Hey there...|\n|  ham|Even my brother i...|\n|  ham|As per your reque...|\n| spam|WINNER!! As a val...|\n| spam|Had your mobile 1...|\n|  ham|I'm gonna be home...|\n| spam|SIX chances to wi...|\n| spam|URGENT! You have ...|\n|  ham|I've been searchi...|\n|  ham|I HAVE A DATE ON ...|\n| spam|XXXMobileMovieClu...|\n|  ham|Oh k...i'm watchi...|\n|  ham|Eh u remember how...|\n|  ham|Fine if thats th...|\n| spam|England v Macedon...|\n+-----+--------------------+\nonly showing top 20 rows\n\n"
    }
   ],
   "source": [
    "data.show()"
   ]
  },
  {
   "cell_type": "code",
   "execution_count": 14,
   "metadata": {},
   "outputs": [],
   "source": [
    "from pyspark.sql.functions import length"
   ]
  },
  {
   "cell_type": "code",
   "execution_count": 15,
   "metadata": {},
   "outputs": [],
   "source": [
    "data = data.withColumn('length', length(data['text']))"
   ]
  },
  {
   "cell_type": "code",
   "execution_count": 16,
   "metadata": {},
   "outputs": [
    {
     "output_type": "stream",
     "name": "stdout",
     "text": "+-----+--------------------+------+\n|class|                text|length|\n+-----+--------------------+------+\n|  ham|Go until jurong p...|   111|\n|  ham|Ok lar... Joking ...|    29|\n| spam|Free entry in 2 a...|   155|\n|  ham|U dun say so earl...|    49|\n|  ham|Nah I don't think...|    61|\n| spam|FreeMsg Hey there...|   147|\n|  ham|Even my brother i...|    77|\n|  ham|As per your reque...|   160|\n| spam|WINNER!! As a val...|   157|\n| spam|Had your mobile 1...|   154|\n|  ham|I'm gonna be home...|   109|\n| spam|SIX chances to wi...|   136|\n| spam|URGENT! You have ...|   155|\n|  ham|I've been searchi...|   196|\n|  ham|I HAVE A DATE ON ...|    35|\n| spam|XXXMobileMovieClu...|   149|\n|  ham|Oh k...i'm watchi...|    26|\n|  ham|Eh u remember how...|    81|\n|  ham|Fine if thats th...|    56|\n| spam|England v Macedon...|   155|\n+-----+--------------------+------+\nonly showing top 20 rows\n\n"
    }
   ],
   "source": [
    "data.show()"
   ]
  },
  {
   "cell_type": "code",
   "execution_count": 17,
   "metadata": {},
   "outputs": [
    {
     "output_type": "stream",
     "name": "stdout",
     "text": "+-----+-----------------+\n|class|      avg(length)|\n+-----+-----------------+\n|  ham|71.45431945307645|\n| spam|138.6706827309237|\n+-----+-----------------+\n\n"
    }
   ],
   "source": [
    "data.groupBy('class').mean().show()"
   ]
  },
  {
   "cell_type": "code",
   "execution_count": 18,
   "metadata": {},
   "outputs": [],
   "source": [
    "from pyspark.ml.feature import Tokenizer, StopWordsRemover, CountVectorizer, IDF, StringIndexer"
   ]
  },
  {
   "cell_type": "code",
   "execution_count": 31,
   "metadata": {},
   "outputs": [],
   "source": [
    "tokenizer = Tokenizer(inputCol='text', outputCol='token_text')\n",
    "stop_remove = StopWordsRemover(inputCol='token_text', outputCol='stop_token')\n",
    "count_vec = CountVectorizer(inputCol='stop_token', outputCol='c_vec')\n",
    "idf = IDF(inputCol='c_vec', outputCol='tf_idf')\n",
    "ham_spam_to_num = StringIndexer(inputCol='class', outputCol='label')\n"
   ]
  },
  {
   "cell_type": "code",
   "execution_count": 40,
   "metadata": {},
   "outputs": [],
   "source": [
    "from pyspark.ml.feature import VectorAssembler\n",
    "clean_up = VectorAssembler(inputCols=['tf_idf', 'length'], outputCol='features')"
   ]
  },
  {
   "cell_type": "code",
   "execution_count": 41,
   "metadata": {},
   "outputs": [],
   "source": [
    "from pyspark.ml.classification import NaiveBayes\n",
    "nb = NaiveBayes()"
   ]
  },
  {
   "cell_type": "code",
   "execution_count": 42,
   "metadata": {},
   "outputs": [],
   "source": [
    "from pyspark.ml import Pipeline"
   ]
  },
  {
   "cell_type": "code",
   "execution_count": 43,
   "metadata": {},
   "outputs": [],
   "source": [
    "pipeline = Pipeline(stages=[ham_spam_to_num, tokenizer, stop_remove, count_vec, idf,clean_up])"
   ]
  },
  {
   "cell_type": "code",
   "execution_count": 44,
   "metadata": {},
   "outputs": [],
   "source": [
    "cleaned = pipeline.fit(data)\n"
   ]
  },
  {
   "cell_type": "code",
   "execution_count": 45,
   "metadata": {},
   "outputs": [
    {
     "output_type": "stream",
     "name": "stdout",
     "text": "+-----+--------------------+\n|label|            features|\n+-----+--------------------+\n|  0.0|(13424,[7,11,31,6...|\n|  0.0|(13424,[0,24,297,...|\n|  1.0|(13424,[2,13,19,3...|\n|  0.0|(13424,[0,70,80,1...|\n|  0.0|(13424,[36,134,31...|\n|  1.0|(13424,[10,60,139...|\n|  0.0|(13424,[10,53,103...|\n|  0.0|(13424,[125,184,4...|\n|  1.0|(13424,[1,47,118,...|\n|  1.0|(13424,[0,1,13,27...|\n|  0.0|(13424,[18,43,120...|\n|  1.0|(13424,[8,17,37,8...|\n|  1.0|(13424,[13,30,47,...|\n|  0.0|(13424,[39,96,217...|\n|  0.0|(13424,[552,1697,...|\n|  1.0|(13424,[30,109,11...|\n|  0.0|(13424,[82,214,47...|\n|  0.0|(13424,[0,2,49,13...|\n|  0.0|(13424,[0,74,105,...|\n|  1.0|(13424,[4,30,33,5...|\n+-----+--------------------+\nonly showing top 20 rows\n\n"
    }
   ],
   "source": [
    "clean_data = cleaned.transform(data).select('label','features')\n",
    "clean_data.show()"
   ]
  },
  {
   "cell_type": "code",
   "execution_count": 46,
   "metadata": {},
   "outputs": [],
   "source": [
    "train, test = clean_data.randomSplit([0.7,0.3])"
   ]
  },
  {
   "cell_type": "code",
   "execution_count": 47,
   "metadata": {},
   "outputs": [],
   "source": [
    "spam_detector = nb.fit(train)"
   ]
  },
  {
   "cell_type": "code",
   "execution_count": 48,
   "metadata": {},
   "outputs": [],
   "source": [
    "test_res = spam_detector.transform(test)"
   ]
  },
  {
   "cell_type": "code",
   "execution_count": 49,
   "metadata": {},
   "outputs": [
    {
     "output_type": "stream",
     "name": "stdout",
     "text": "+-----+--------------------+--------------------+--------------------+----------+\n|label|            features|       rawPrediction|         probability|prediction|\n+-----+--------------------+--------------------+--------------------+----------+\n|  0.0|(13424,[0,1,7,8,1...|[-1155.1059700659...|[1.0,3.3449208628...|       0.0|\n|  0.0|(13424,[0,1,7,15,...|[-666.19765682410...|[1.0,5.8396932461...|       0.0|\n|  0.0|(13424,[0,1,9,14,...|[-559.40480043221...|[1.0,1.2017267760...|       0.0|\n|  0.0|(13424,[0,1,9,14,...|[-559.40480043221...|[1.0,1.2017267760...|       0.0|\n|  0.0|(13424,[0,1,20,27...|[-967.90478154712...|[0.99999999999999...|       0.0|\n|  0.0|(13424,[0,1,21,27...|[-1005.6869018823...|[1.0,7.8420248012...|       0.0|\n|  0.0|(13424,[0,1,27,35...|[-1470.5250150893...|[0.99999999999996...|       0.0|\n|  0.0|(13424,[0,1,46,17...|[-1139.8702314684...|[2.57915677431715...|       1.0|\n|  0.0|(13424,[0,1,146,1...|[-248.68090543735...|[0.90190892902948...|       0.0|\n|  0.0|(13424,[0,1,3657,...|[-127.60079449898...|[0.99998066552492...|       0.0|\n|  0.0|(13424,[0,2,3,4,6...|[-1276.5438297095...|[1.0,9.8486230888...|       0.0|\n|  0.0|(13424,[0,2,3,6,9...|[-3284.9187142086...|[1.0,6.9085492516...|       0.0|\n|  0.0|(13424,[0,2,4,5,1...|[-2484.0791288494...|[1.0,2.7065428023...|       0.0|\n|  0.0|(13424,[0,2,4,8,2...|[-567.63090410378...|[1.0,1.1671347711...|       0.0|\n|  0.0|(13424,[0,2,7,8,3...|[-1149.2851787626...|[1.0,3.0129738730...|       0.0|\n|  0.0|(13424,[0,2,7,11,...|[-839.04066307177...|[1.0,8.5496813651...|       0.0|\n|  0.0|(13424,[0,2,7,31,...|[-653.14768167001...|[1.0,9.9876337494...|       0.0|\n|  0.0|(13424,[0,2,7,114...|[-477.17941933423...|[1.0,3.3408259677...|       0.0|\n|  0.0|(13424,[0,2,7,128...|[-254.85654941310...|[1.0,5.3087556080...|       0.0|\n|  0.0|(13424,[0,2,8,28,...|[-1303.8247914790...|[1.0,1.2854489926...|       0.0|\n+-----+--------------------+--------------------+--------------------+----------+\nonly showing top 20 rows\n\n"
    }
   ],
   "source": [
    "test_res.show()"
   ]
  },
  {
   "cell_type": "code",
   "execution_count": 55,
   "metadata": {},
   "outputs": [],
   "source": [
    "from pyspark.ml.evaluation import MulticlassClassificationEvaluator\n",
    "acc_eval = MulticlassClassificationEvaluator()"
   ]
  },
  {
   "cell_type": "code",
   "execution_count": 56,
   "metadata": {},
   "outputs": [
    {
     "output_type": "execute_result",
     "data": {
      "text/plain": "0.9273072258824983"
     },
     "metadata": {},
     "execution_count": 56
    }
   ],
   "source": [
    "acc = acc_eval.evaluate(test_res)\n",
    "acc"
   ]
  },
  {
   "cell_type": "code",
   "execution_count": null,
   "metadata": {},
   "outputs": [],
   "source": []
  }
 ],
 "metadata": {
  "language_info": {
   "codemirror_mode": {
    "name": "ipython",
    "version": 2
   },
   "file_extension": ".py",
   "mimetype": "text/x-python",
   "name": "python",
   "nbconvert_exporter": "python",
   "pygments_lexer": "ipython2",
   "version": "3.6.9-final"
  },
  "orig_nbformat": 2,
  "kernelspec": {
   "name": "python36964bite6955f2e74d64707b01ddae88c9da161",
   "display_name": "Python 3.6.9 64-bit"
  }
 },
 "nbformat": 4,
 "nbformat_minor": 2
}