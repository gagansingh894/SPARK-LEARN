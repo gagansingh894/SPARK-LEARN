{
 "cells": [
  {
   "cell_type": "code",
   "execution_count": 1,
   "metadata": {},
   "outputs": [],
   "source": [
    "import findspark\n",
    "findspark.init(\"/home/gagandeep/spark/spark-2.4.5-bin-hadoop2.7\")\n",
    "from pyspark.sql import SparkSession\n",
    "import os"
   ]
  },
  {
   "cell_type": "code",
   "execution_count": 2,
   "metadata": {},
   "outputs": [],
   "source": [
    "spark = SparkSession.builder.appName('rec').getOrCreate()"
   ]
  },
  {
   "cell_type": "code",
   "execution_count": 3,
   "metadata": {},
   "outputs": [],
   "source": [
    "pathToFile = \"/media/gagandeep/2E92405C92402AA3/Work/Codes/PythonCodes/SparkLesson/DataFiles/Spark_for_Machine_Learning/Recommender_Systems/movielens_ratings.csv\"\n",
    "data = spark.read.csv(pathToFile, inferSchema=True, header=True)"
   ]
  },
  {
   "cell_type": "code",
   "execution_count": 4,
   "metadata": {},
   "outputs": [],
   "source": [
    "from pyspark.ml.recommendation import ALS\n",
    "from pyspark.ml.evaluation import RegressionEvaluator"
   ]
  },
  {
   "cell_type": "code",
   "execution_count": 5,
   "metadata": {},
   "outputs": [
    {
     "output_type": "stream",
     "name": "stdout",
     "text": "+-------+------+------+\n|movieId|rating|userId|\n+-------+------+------+\n|      2|   3.0|     0|\n|      3|   1.0|     0|\n|      5|   2.0|     0|\n|      9|   4.0|     0|\n|     11|   1.0|     0|\n|     12|   2.0|     0|\n|     15|   1.0|     0|\n|     17|   1.0|     0|\n|     19|   1.0|     0|\n|     21|   1.0|     0|\n|     23|   1.0|     0|\n|     26|   3.0|     0|\n|     27|   1.0|     0|\n|     28|   1.0|     0|\n|     29|   1.0|     0|\n|     30|   1.0|     0|\n|     31|   1.0|     0|\n|     34|   1.0|     0|\n|     37|   1.0|     0|\n|     41|   2.0|     0|\n+-------+------+------+\nonly showing top 20 rows\n\n"
    }
   ],
   "source": [
    "data.show()"
   ]
  },
  {
   "cell_type": "code",
   "execution_count": 6,
   "metadata": {},
   "outputs": [
    {
     "output_type": "stream",
     "name": "stdout",
     "text": "+-------+------------------+------------------+------------------+\n|summary|           movieId|            rating|            userId|\n+-------+------------------+------------------+------------------+\n|  count|              1501|              1501|              1501|\n|   mean| 49.40572951365756|1.7741505662891406|14.383744170552964|\n| stddev|28.937034065088994| 1.187276166124803| 8.591040424293272|\n|    min|                 0|               1.0|                 0|\n|    max|                99|               5.0|                29|\n+-------+------------------+------------------+------------------+\n\n"
    }
   ],
   "source": [
    "data.describe().show()"
   ]
  },
  {
   "cell_type": "code",
   "execution_count": 7,
   "metadata": {},
   "outputs": [],
   "source": [
    "train, test = data.randomSplit([0.8,0.2])"
   ]
  },
  {
   "cell_type": "code",
   "execution_count": 8,
   "metadata": {},
   "outputs": [],
   "source": [
    "als = ALS(maxIter=10, regParam=0.01, userCol='userId', itemCol='movieId', ratingCol='rating')"
   ]
  },
  {
   "cell_type": "code",
   "execution_count": 9,
   "metadata": {},
   "outputs": [],
   "source": [
    "model = als.fit(train)"
   ]
  },
  {
   "cell_type": "code",
   "execution_count": 10,
   "metadata": {},
   "outputs": [],
   "source": [
    "pred = model.transform(test)"
   ]
  },
  {
   "cell_type": "code",
   "execution_count": 11,
   "metadata": {},
   "outputs": [
    {
     "output_type": "stream",
     "name": "stdout",
     "text": "+-------+------+------+-----------+\n|movieId|rating|userId| prediction|\n+-------+------+------+-----------+\n|     31|   1.0|     5| 0.97344506|\n|     31|   1.0|    19|  1.9021467|\n|     31|   1.0|    18| 0.80515504|\n|     85|   1.0|    26|  1.8876135|\n|     85|   2.0|    20|   1.265231|\n|     85|   1.0|     5| 0.91215223|\n|     85|   1.0|    23|  0.7343028|\n|     85|   3.0|    21|  4.8433037|\n|     65|   1.0|    28|  2.0757418|\n|     65|   1.0|    16|  0.9530109|\n|     53|   3.0|    20|-0.11286947|\n|     53|   5.0|     8|  2.2847855|\n|     53|   1.0|    23|  0.7936096|\n|     53|   1.0|    25| -2.5344718|\n|     53|   3.0|    14|  1.5848817|\n|     78|   1.0|    27|  0.8540673|\n|     78|   1.0|    12|  1.2646258|\n|     78|   1.0|     1|  1.0001954|\n|     34|   1.0|    15|  2.6444602|\n|     81|   5.0|    28|  1.6275266|\n+-------+------+------+-----------+\nonly showing top 20 rows\n\n"
    }
   ],
   "source": [
    "pred.show()"
   ]
  },
  {
   "cell_type": "code",
   "execution_count": 12,
   "metadata": {},
   "outputs": [],
   "source": [
    "evaluator = RegressionEvaluator(metricName='rmse', labelCol='rating', predictionCol='prediction')"
   ]
  },
  {
   "cell_type": "code",
   "execution_count": 13,
   "metadata": {},
   "outputs": [
    {
     "output_type": "execute_result",
     "data": {
      "text/plain": "1.9483203454007345"
     },
     "metadata": {},
     "execution_count": 13
    }
   ],
   "source": [
    "rmse = evaluator.evaluate(pred)\n",
    "rmse"
   ]
  },
  {
   "cell_type": "code",
   "execution_count": 14,
   "metadata": {},
   "outputs": [],
   "source": [
    "single_user = test.filter(test['userId'] == 11).select(['movieId', 'userId'])"
   ]
  },
  {
   "cell_type": "code",
   "execution_count": 15,
   "metadata": {},
   "outputs": [
    {
     "output_type": "stream",
     "name": "stdout",
     "text": "+-------+------+\n|movieId|userId|\n+-------+------+\n|      0|    11|\n|      6|    11|\n|     18|    11|\n|     21|    11|\n|     22|    11|\n|     23|    11|\n|     30|    11|\n|     50|    11|\n|     51|    11|\n|     62|    11|\n|     67|    11|\n|     79|    11|\n|     86|    11|\n+-------+------+\n\n"
    }
   ],
   "source": [
    "single_user.show()"
   ]
  },
  {
   "cell_type": "code",
   "execution_count": 16,
   "metadata": {},
   "outputs": [
    {
     "output_type": "stream",
     "name": "stdout",
     "text": "+-------+------+----------+\n|movieId|userId|prediction|\n+-------+------+----------+\n|     62|    11|  4.879845|\n|     21|    11| 3.3483655|\n|     18|    11| 3.0584986|\n|     23|    11| 2.3428204|\n|     86|    11| 2.2802045|\n|     51|    11|  2.150453|\n|     22|    11| 1.9456537|\n|     67|    11| 1.7587798|\n|     50|    11| 1.1116447|\n|      0|    11| 1.0227671|\n|     30|    11|0.45696056|\n|     79|    11|0.12279113|\n|      6|    11|-1.0242363|\n+-------+------+----------+\n\n"
    }
   ],
   "source": [
    "recommend = model.transform(single_user)\n",
    "recommend.orderBy('prediction', ascending=False).show()"
   ]
  },
  {
   "cell_type": "code",
   "execution_count": null,
   "metadata": {},
   "outputs": [],
   "source": []
  }
 ],
 "metadata": {
  "language_info": {
   "codemirror_mode": {
    "name": "ipython",
    "version": 2
   },
   "file_extension": ".py",
   "mimetype": "text/x-python",
   "name": "python",
   "nbconvert_exporter": "python",
   "pygments_lexer": "ipython2",
   "version": "3.6.9-final"
  },
  "orig_nbformat": 2,
  "kernelspec": {
   "name": "python36964bite6955f2e74d64707b01ddae88c9da161",
   "display_name": "Python 3.6.9 64-bit"
  }
 },
 "nbformat": 4,
 "nbformat_minor": 2
}